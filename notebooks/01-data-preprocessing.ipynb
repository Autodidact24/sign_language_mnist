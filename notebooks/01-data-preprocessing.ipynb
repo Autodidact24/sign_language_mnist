{
 "cells": [
  {
   "cell_type": "markdown",
   "id": "c79ac01b",
   "metadata": {},
   "source": [
    "## Introduction: Context & Quick Overview\n",
    "The American Sign Language letter database of hand gestures represent a multi-class problem with 24 classes of letters (excluding J and Z which require motion).\n",
    "\n",
    "![ASL](https://storage.googleapis.com/kaggle-datasets-images/3258/5337/0dade1b95b22cceac471b309fc8a8f63/dataset-cover.png \"ASL\")"
   ]
  },
  {
   "cell_type": "code",
   "execution_count": 1,
   "id": "e1cabb40",
   "metadata": {},
   "outputs": [],
   "source": [
    "import os\n",
    "from pathlib import Path\n",
    "\n",
    "import numpy as np\n",
    "import pandas as pd\n",
    "from PIL import Image\n",
    "from fastai.vision.all import *"
   ]
  },
  {
   "cell_type": "code",
   "execution_count": 2,
   "id": "0110fb6c",
   "metadata": {},
   "outputs": [
    {
     "name": "stdout",
     "output_type": "stream",
     "text": [
      "/home/shubham/Desktop/sign-language-mnist\n"
     ]
    }
   ],
   "source": [
    "# Go to project root folder\n",
    "%cd .."
   ]
  },
  {
   "cell_type": "code",
   "execution_count": 5,
   "id": "0314c06e",
   "metadata": {},
   "outputs": [
    {
     "name": "stdout",
     "output_type": "stream",
     "text": [
      "{'base': {'project': 'sign language mnist classification', 'random_seed': 42},\n",
      " 'data_load': {'processed_test_data_path': 'data/processed/sign_mnist_test.csv',\n",
      "               'processed_train_data_path': 'data/processed/sign_mnist_train.csv',\n",
      "               'target': 'label',\n",
      "               'test_data_path': 'data/sign_mnist_test/sign_mnist_test.csv',\n",
      "               'train_data_path': 'data/sign_mnist_train/sign_mnist_train.csv'},\n",
      " 'model': {'architecture': 'resnet34', 'pretrained': True},\n",
      " 'train': {'loss_func': 'CrossEntropyLoss',\n",
      "           'lr': 0.001,\n",
      "           'metrics': ['accuracy', 'f1_score'],\n",
      "           'num_epochs': 10,\n",
      "           'optimizer': 'Adam',\n",
      "           'weight_decay': 0.01}}\n"
     ]
    }
   ],
   "source": [
    "# Read config\n",
    "import pprint\n",
    "\n",
    "with open('params.yaml') as conf_file:\n",
    "    config = yaml.safe_load(conf_file)\n",
    "\n",
    "pprint.pprint(config)"
   ]
  },
  {
   "attachments": {},
   "cell_type": "markdown",
   "id": "15fa64bb",
   "metadata": {},
   "source": [
    "## Loading csv and changing it to img\n",
    "Reading the csv and converting the the data into images as required for the resnet.\n"
   ]
  },
  {
   "cell_type": "code",
   "execution_count": 7,
   "id": "e086c691",
   "metadata": {},
   "outputs": [],
   "source": [
    "def get_images(df):\n",
    "    IMG_WIDTH =28\n",
    "    IMG_HEIGHT=28\n",
    "    \n",
    "    df['img'] = df[df.columns[df.columns.str.startswith('pixel')]].apply(\n",
    "        lambda x: PILImage(Image.fromarray(np.array(x.values).reshape((IMG_WIDTH,IMG_HEIGHT)).astype(np.uint8))),\n",
    "        axis=1\n",
    "    )\n",
    "    \n",
    "    return df[df.columns[[not x for x in df.columns.str.startswith('pixel')]]]"
   ]
  },
  {
   "attachments": {},
   "cell_type": "markdown",
   "id": "264f8199",
   "metadata": {},
   "source": [
    "## Getting images from the csv"
   ]
  },
  {
   "cell_type": "code",
   "execution_count": 8,
   "id": "e8403a92",
   "metadata": {},
   "outputs": [
    {
     "data": {
      "text/html": [
       "<div>\n",
       "<style scoped>\n",
       "    .dataframe tbody tr th:only-of-type {\n",
       "        vertical-align: middle;\n",
       "    }\n",
       "\n",
       "    .dataframe tbody tr th {\n",
       "        vertical-align: top;\n",
       "    }\n",
       "\n",
       "    .dataframe thead th {\n",
       "        text-align: right;\n",
       "    }\n",
       "</style>\n",
       "<table border=\"1\" class=\"dataframe\">\n",
       "  <thead>\n",
       "    <tr style=\"text-align: right;\">\n",
       "      <th></th>\n",
       "      <th>label</th>\n",
       "      <th>img</th>\n",
       "    </tr>\n",
       "  </thead>\n",
       "  <tbody>\n",
       "    <tr>\n",
       "      <th>0</th>\n",
       "      <td>3</td>\n",
       "      <td>PILImage mode=L size=28x28</td>\n",
       "    </tr>\n",
       "    <tr>\n",
       "      <th>1</th>\n",
       "      <td>6</td>\n",
       "      <td>PILImage mode=L size=28x28</td>\n",
       "    </tr>\n",
       "    <tr>\n",
       "      <th>2</th>\n",
       "      <td>2</td>\n",
       "      <td>PILImage mode=L size=28x28</td>\n",
       "    </tr>\n",
       "    <tr>\n",
       "      <th>3</th>\n",
       "      <td>2</td>\n",
       "      <td>PILImage mode=L size=28x28</td>\n",
       "    </tr>\n",
       "    <tr>\n",
       "      <th>4</th>\n",
       "      <td>13</td>\n",
       "      <td>PILImage mode=L size=28x28</td>\n",
       "    </tr>\n",
       "  </tbody>\n",
       "</table>\n",
       "</div>"
      ],
      "text/plain": [
       "   label                         img\n",
       "0      3  PILImage mode=L size=28x28\n",
       "1      6  PILImage mode=L size=28x28\n",
       "2      2  PILImage mode=L size=28x28\n",
       "3      2  PILImage mode=L size=28x28\n",
       "4     13  PILImage mode=L size=28x28"
      ]
     },
     "execution_count": 8,
     "metadata": {},
     "output_type": "execute_result"
    }
   ],
   "source": [
    "train_df = pd.read_csv(config['data_load']['train_data_path'])\n",
    "train_df = get_images(train_df)\n",
    "train_df.head()"
   ]
  },
  {
   "cell_type": "code",
   "execution_count": 9,
   "id": "056a6d38",
   "metadata": {},
   "outputs": [],
   "source": [
    "train_df.to_csv(config['data_load']['processed_train_data_path'], index=False)"
   ]
  },
  {
   "cell_type": "code",
   "execution_count": 10,
   "id": "2d2a4ba0",
   "metadata": {},
   "outputs": [
    {
     "data": {
      "text/html": [
       "<div>\n",
       "<style scoped>\n",
       "    .dataframe tbody tr th:only-of-type {\n",
       "        vertical-align: middle;\n",
       "    }\n",
       "\n",
       "    .dataframe tbody tr th {\n",
       "        vertical-align: top;\n",
       "    }\n",
       "\n",
       "    .dataframe thead th {\n",
       "        text-align: right;\n",
       "    }\n",
       "</style>\n",
       "<table border=\"1\" class=\"dataframe\">\n",
       "  <thead>\n",
       "    <tr style=\"text-align: right;\">\n",
       "      <th></th>\n",
       "      <th>label</th>\n",
       "      <th>img</th>\n",
       "    </tr>\n",
       "  </thead>\n",
       "  <tbody>\n",
       "    <tr>\n",
       "      <th>0</th>\n",
       "      <td>6</td>\n",
       "      <td>PILImage mode=L size=28x28</td>\n",
       "    </tr>\n",
       "    <tr>\n",
       "      <th>1</th>\n",
       "      <td>5</td>\n",
       "      <td>PILImage mode=L size=28x28</td>\n",
       "    </tr>\n",
       "    <tr>\n",
       "      <th>2</th>\n",
       "      <td>10</td>\n",
       "      <td>PILImage mode=L size=28x28</td>\n",
       "    </tr>\n",
       "    <tr>\n",
       "      <th>3</th>\n",
       "      <td>0</td>\n",
       "      <td>PILImage mode=L size=28x28</td>\n",
       "    </tr>\n",
       "    <tr>\n",
       "      <th>4</th>\n",
       "      <td>3</td>\n",
       "      <td>PILImage mode=L size=28x28</td>\n",
       "    </tr>\n",
       "  </tbody>\n",
       "</table>\n",
       "</div>"
      ],
      "text/plain": [
       "   label                         img\n",
       "0      6  PILImage mode=L size=28x28\n",
       "1      5  PILImage mode=L size=28x28\n",
       "2     10  PILImage mode=L size=28x28\n",
       "3      0  PILImage mode=L size=28x28\n",
       "4      3  PILImage mode=L size=28x28"
      ]
     },
     "execution_count": 10,
     "metadata": {},
     "output_type": "execute_result"
    }
   ],
   "source": [
    "test_df = pd.read_csv(config['data_load']['test_data_path'])\n",
    "test_df = get_images(test_df)\n",
    "test_df.head()"
   ]
  },
  {
   "cell_type": "code",
   "execution_count": 11,
   "id": "bc971117",
   "metadata": {},
   "outputs": [],
   "source": [
    "test_df.to_csv(config['data_load']['processed_test_data_path'], index=False)"
   ]
  }
 ],
 "metadata": {
  "kernelspec": {
   "display_name": "dvc-venv",
   "language": "python",
   "name": "python3"
  },
  "language_info": {
   "codemirror_mode": {
    "name": "ipython",
    "version": 3
   },
   "file_extension": ".py",
   "mimetype": "text/x-python",
   "name": "python",
   "nbconvert_exporter": "python",
   "pygments_lexer": "ipython3",
   "version": "3.8.13"
  },
  "toc": {
   "base_numbering": 1,
   "nav_menu": {},
   "number_sections": true,
   "sideBar": true,
   "skip_h1_title": false,
   "title_cell": "Table of Contents",
   "title_sidebar": "Contents",
   "toc_cell": false,
   "toc_position": {},
   "toc_section_display": true,
   "toc_window_display": false
  }
 },
 "nbformat": 4,
 "nbformat_minor": 5
}
